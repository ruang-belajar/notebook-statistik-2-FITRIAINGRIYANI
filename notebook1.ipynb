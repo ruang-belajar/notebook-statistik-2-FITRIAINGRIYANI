{
  "nbformat": 4,
  "nbformat_minor": 0,
  "metadata": {
    "colab": {
      "provenance": [],
      "toc_visible": true,
      "include_colab_link": true
    },
    "kernelspec": {
      "name": "python3",
      "display_name": "Python 3"
    },
    "language_info": {
      "name": "python"
    }
  },
  "cells": [
    {
      "cell_type": "markdown",
      "metadata": {
        "id": "view-in-github",
        "colab_type": "text"
      },
      "source": [
        "<a href=\"https://colab.research.google.com/github/ruang-belajar/notebook-statistik-2-FITRIAINGRIYANI/blob/main/notebook1.ipynb\" target=\"_parent\"><img src=\"https://colab.research.google.com/assets/colab-badge.svg\" alt=\"Open In Colab\"/></a>"
      ]
    },
    {
      "cell_type": "markdown",
      "source": [
        "# [judul]\n",
        "* Nama :fitria ingriyani\n",
        "* NIM :  22020125"
      ],
      "metadata": {
        "id": "SOTwCKLPjXe4"
      }
    },
    {
      "cell_type": "code",
      "execution_count": 1,
      "metadata": {
        "id": "MFCMGmiLjN-4",
        "outputId": "cda1d4d2-7f08-4ea4-fc0e-9713e69cfd5f",
        "colab": {
          "base_uri": "https://localhost:8080/",
          "height": 678
        }
      },
      "outputs": [
        {
          "output_type": "stream",
          "name": "stdout",
          "text": [
            "--2024-01-13 04:04:08--  https://raw.githubusercontent.com/ruang-belajar/python/master/notebook/data/2013-data-kebakaran.csv\n",
            "Resolving raw.githubusercontent.com (raw.githubusercontent.com)... 185.199.111.133, 185.199.110.133, 185.199.109.133, ...\n",
            "Connecting to raw.githubusercontent.com (raw.githubusercontent.com)|185.199.111.133|:443... connected.\n",
            "HTTP request sent, awaiting response... 200 OK\n",
            "Length: 133228 (130K) [text/plain]\n",
            "Saving to: ‘data-kebakaran.csv’\n",
            "\n",
            "\rdata-kebakaran.csv    0%[                    ]       0  --.-KB/s               \rdata-kebakaran.csv  100%[===================>] 130.11K  --.-KB/s    in 0.02s   \n",
            "\n",
            "2024-01-13 04:04:09 (5.96 MB/s) - ‘data-kebakaran.csv’ saved [133228/133228]\n",
            "\n"
          ]
        },
        {
          "output_type": "execute_result",
          "data": {
            "text/plain": [
              "   no  tanggal  bulan    hari         keterangan            sumber_info  \\\n",
              "0   1        1      1  Selasa  Bencana Kebakaran        Petugas Pemadam   \n",
              "1   2        1      1  Selasa  Bencana Kebakaran             Masyarakat   \n",
              "2   3        1      1  Selasa  Bencana Kebakaran             Masyarakat   \n",
              "3   4        1      1  Selasa  Bencana Kebakaran  Petugas Instansi Lain   \n",
              "4   5        2      1    Rabu  Bencana Kebakaran        Petugas Pemadam   \n",
              "\n",
              "  waktu_info       kelurahan          kecamatan  \\\n",
              "0       0:05    Semper Barat          Cilincing   \n",
              "1       5:00         Pekayon         Pasar Rebo   \n",
              "2      10:00   Wijaya Kusuma  Grogol Petamburan   \n",
              "3       0:00    Utan Panjang          Kemayoran   \n",
              "4      19:30  Meruya Selatan          Kembangan   \n",
              "\n",
              "                           wilayah     objek_awal   jenis_bangunan penyebab  \\\n",
              "0  Kota Administrasi Jakarta Utara  Rumah Tinggal  Bangunan Rendah     Lain   \n",
              "1  Kota Administrasi Jakarta Timur  Rumah Tinggal  Bangunan Rendah  Listrik   \n",
              "2  Kota Administrasi Jakarta Barat  Rumah Tinggal  Bangunan Rendah  Listrik   \n",
              "3  Kota Administrasi Jakarta Pusat  Rumah Tinggal  Bangunan Rendah  Listrik   \n",
              "4  Kota Administrasi Jakarta Barat  Rumah Tinggal  Bangunan Rendah  Listrik   \n",
              "\n",
              "   korban_jiwa   kerugian  \n",
              "0          4.0  300000000  \n",
              "1          3.0   20000000  \n",
              "2         80.0  750000000  \n",
              "3         12.0  200000000  \n",
              "4          0.0  600000000  "
            ],
            "text/html": [
              "\n",
              "  <div id=\"df-cead004a-10e9-4d90-bee9-e7f2e098312d\" class=\"colab-df-container\">\n",
              "    <div>\n",
              "<style scoped>\n",
              "    .dataframe tbody tr th:only-of-type {\n",
              "        vertical-align: middle;\n",
              "    }\n",
              "\n",
              "    .dataframe tbody tr th {\n",
              "        vertical-align: top;\n",
              "    }\n",
              "\n",
              "    .dataframe thead th {\n",
              "        text-align: right;\n",
              "    }\n",
              "</style>\n",
              "<table border=\"1\" class=\"dataframe\">\n",
              "  <thead>\n",
              "    <tr style=\"text-align: right;\">\n",
              "      <th></th>\n",
              "      <th>no</th>\n",
              "      <th>tanggal</th>\n",
              "      <th>bulan</th>\n",
              "      <th>hari</th>\n",
              "      <th>keterangan</th>\n",
              "      <th>sumber_info</th>\n",
              "      <th>waktu_info</th>\n",
              "      <th>kelurahan</th>\n",
              "      <th>kecamatan</th>\n",
              "      <th>wilayah</th>\n",
              "      <th>objek_awal</th>\n",
              "      <th>jenis_bangunan</th>\n",
              "      <th>penyebab</th>\n",
              "      <th>korban_jiwa</th>\n",
              "      <th>kerugian</th>\n",
              "    </tr>\n",
              "  </thead>\n",
              "  <tbody>\n",
              "    <tr>\n",
              "      <th>0</th>\n",
              "      <td>1</td>\n",
              "      <td>1</td>\n",
              "      <td>1</td>\n",
              "      <td>Selasa</td>\n",
              "      <td>Bencana Kebakaran</td>\n",
              "      <td>Petugas Pemadam</td>\n",
              "      <td>0:05</td>\n",
              "      <td>Semper Barat</td>\n",
              "      <td>Cilincing</td>\n",
              "      <td>Kota Administrasi Jakarta Utara</td>\n",
              "      <td>Rumah Tinggal</td>\n",
              "      <td>Bangunan Rendah</td>\n",
              "      <td>Lain</td>\n",
              "      <td>4.0</td>\n",
              "      <td>300000000</td>\n",
              "    </tr>\n",
              "    <tr>\n",
              "      <th>1</th>\n",
              "      <td>2</td>\n",
              "      <td>1</td>\n",
              "      <td>1</td>\n",
              "      <td>Selasa</td>\n",
              "      <td>Bencana Kebakaran</td>\n",
              "      <td>Masyarakat</td>\n",
              "      <td>5:00</td>\n",
              "      <td>Pekayon</td>\n",
              "      <td>Pasar Rebo</td>\n",
              "      <td>Kota Administrasi Jakarta Timur</td>\n",
              "      <td>Rumah Tinggal</td>\n",
              "      <td>Bangunan Rendah</td>\n",
              "      <td>Listrik</td>\n",
              "      <td>3.0</td>\n",
              "      <td>20000000</td>\n",
              "    </tr>\n",
              "    <tr>\n",
              "      <th>2</th>\n",
              "      <td>3</td>\n",
              "      <td>1</td>\n",
              "      <td>1</td>\n",
              "      <td>Selasa</td>\n",
              "      <td>Bencana Kebakaran</td>\n",
              "      <td>Masyarakat</td>\n",
              "      <td>10:00</td>\n",
              "      <td>Wijaya Kusuma</td>\n",
              "      <td>Grogol Petamburan</td>\n",
              "      <td>Kota Administrasi Jakarta Barat</td>\n",
              "      <td>Rumah Tinggal</td>\n",
              "      <td>Bangunan Rendah</td>\n",
              "      <td>Listrik</td>\n",
              "      <td>80.0</td>\n",
              "      <td>750000000</td>\n",
              "    </tr>\n",
              "    <tr>\n",
              "      <th>3</th>\n",
              "      <td>4</td>\n",
              "      <td>1</td>\n",
              "      <td>1</td>\n",
              "      <td>Selasa</td>\n",
              "      <td>Bencana Kebakaran</td>\n",
              "      <td>Petugas Instansi Lain</td>\n",
              "      <td>0:00</td>\n",
              "      <td>Utan Panjang</td>\n",
              "      <td>Kemayoran</td>\n",
              "      <td>Kota Administrasi Jakarta Pusat</td>\n",
              "      <td>Rumah Tinggal</td>\n",
              "      <td>Bangunan Rendah</td>\n",
              "      <td>Listrik</td>\n",
              "      <td>12.0</td>\n",
              "      <td>200000000</td>\n",
              "    </tr>\n",
              "    <tr>\n",
              "      <th>4</th>\n",
              "      <td>5</td>\n",
              "      <td>2</td>\n",
              "      <td>1</td>\n",
              "      <td>Rabu</td>\n",
              "      <td>Bencana Kebakaran</td>\n",
              "      <td>Petugas Pemadam</td>\n",
              "      <td>19:30</td>\n",
              "      <td>Meruya Selatan</td>\n",
              "      <td>Kembangan</td>\n",
              "      <td>Kota Administrasi Jakarta Barat</td>\n",
              "      <td>Rumah Tinggal</td>\n",
              "      <td>Bangunan Rendah</td>\n",
              "      <td>Listrik</td>\n",
              "      <td>0.0</td>\n",
              "      <td>600000000</td>\n",
              "    </tr>\n",
              "  </tbody>\n",
              "</table>\n",
              "</div>\n",
              "    <div class=\"colab-df-buttons\">\n",
              "\n",
              "  <div class=\"colab-df-container\">\n",
              "    <button class=\"colab-df-convert\" onclick=\"convertToInteractive('df-cead004a-10e9-4d90-bee9-e7f2e098312d')\"\n",
              "            title=\"Convert this dataframe to an interactive table.\"\n",
              "            style=\"display:none;\">\n",
              "\n",
              "  <svg xmlns=\"http://www.w3.org/2000/svg\" height=\"24px\" viewBox=\"0 -960 960 960\">\n",
              "    <path d=\"M120-120v-720h720v720H120Zm60-500h600v-160H180v160Zm220 220h160v-160H400v160Zm0 220h160v-160H400v160ZM180-400h160v-160H180v160Zm440 0h160v-160H620v160ZM180-180h160v-160H180v160Zm440 0h160v-160H620v160Z\"/>\n",
              "  </svg>\n",
              "    </button>\n",
              "\n",
              "  <style>\n",
              "    .colab-df-container {\n",
              "      display:flex;\n",
              "      gap: 12px;\n",
              "    }\n",
              "\n",
              "    .colab-df-convert {\n",
              "      background-color: #E8F0FE;\n",
              "      border: none;\n",
              "      border-radius: 50%;\n",
              "      cursor: pointer;\n",
              "      display: none;\n",
              "      fill: #1967D2;\n",
              "      height: 32px;\n",
              "      padding: 0 0 0 0;\n",
              "      width: 32px;\n",
              "    }\n",
              "\n",
              "    .colab-df-convert:hover {\n",
              "      background-color: #E2EBFA;\n",
              "      box-shadow: 0px 1px 2px rgba(60, 64, 67, 0.3), 0px 1px 3px 1px rgba(60, 64, 67, 0.15);\n",
              "      fill: #174EA6;\n",
              "    }\n",
              "\n",
              "    .colab-df-buttons div {\n",
              "      margin-bottom: 4px;\n",
              "    }\n",
              "\n",
              "    [theme=dark] .colab-df-convert {\n",
              "      background-color: #3B4455;\n",
              "      fill: #D2E3FC;\n",
              "    }\n",
              "\n",
              "    [theme=dark] .colab-df-convert:hover {\n",
              "      background-color: #434B5C;\n",
              "      box-shadow: 0px 1px 3px 1px rgba(0, 0, 0, 0.15);\n",
              "      filter: drop-shadow(0px 1px 2px rgba(0, 0, 0, 0.3));\n",
              "      fill: #FFFFFF;\n",
              "    }\n",
              "  </style>\n",
              "\n",
              "    <script>\n",
              "      const buttonEl =\n",
              "        document.querySelector('#df-cead004a-10e9-4d90-bee9-e7f2e098312d button.colab-df-convert');\n",
              "      buttonEl.style.display =\n",
              "        google.colab.kernel.accessAllowed ? 'block' : 'none';\n",
              "\n",
              "      async function convertToInteractive(key) {\n",
              "        const element = document.querySelector('#df-cead004a-10e9-4d90-bee9-e7f2e098312d');\n",
              "        const dataTable =\n",
              "          await google.colab.kernel.invokeFunction('convertToInteractive',\n",
              "                                                    [key], {});\n",
              "        if (!dataTable) return;\n",
              "\n",
              "        const docLinkHtml = 'Like what you see? Visit the ' +\n",
              "          '<a target=\"_blank\" href=https://colab.research.google.com/notebooks/data_table.ipynb>data table notebook</a>'\n",
              "          + ' to learn more about interactive tables.';\n",
              "        element.innerHTML = '';\n",
              "        dataTable['output_type'] = 'display_data';\n",
              "        await google.colab.output.renderOutput(dataTable, element);\n",
              "        const docLink = document.createElement('div');\n",
              "        docLink.innerHTML = docLinkHtml;\n",
              "        element.appendChild(docLink);\n",
              "      }\n",
              "    </script>\n",
              "  </div>\n",
              "\n",
              "\n",
              "<div id=\"df-1821d82b-e4c7-4773-94d3-c59ee07d63d4\">\n",
              "  <button class=\"colab-df-quickchart\" onclick=\"quickchart('df-1821d82b-e4c7-4773-94d3-c59ee07d63d4')\"\n",
              "            title=\"Suggest charts\"\n",
              "            style=\"display:none;\">\n",
              "\n",
              "<svg xmlns=\"http://www.w3.org/2000/svg\" height=\"24px\"viewBox=\"0 0 24 24\"\n",
              "     width=\"24px\">\n",
              "    <g>\n",
              "        <path d=\"M19 3H5c-1.1 0-2 .9-2 2v14c0 1.1.9 2 2 2h14c1.1 0 2-.9 2-2V5c0-1.1-.9-2-2-2zM9 17H7v-7h2v7zm4 0h-2V7h2v10zm4 0h-2v-4h2v4z\"/>\n",
              "    </g>\n",
              "</svg>\n",
              "  </button>\n",
              "\n",
              "<style>\n",
              "  .colab-df-quickchart {\n",
              "      --bg-color: #E8F0FE;\n",
              "      --fill-color: #1967D2;\n",
              "      --hover-bg-color: #E2EBFA;\n",
              "      --hover-fill-color: #174EA6;\n",
              "      --disabled-fill-color: #AAA;\n",
              "      --disabled-bg-color: #DDD;\n",
              "  }\n",
              "\n",
              "  [theme=dark] .colab-df-quickchart {\n",
              "      --bg-color: #3B4455;\n",
              "      --fill-color: #D2E3FC;\n",
              "      --hover-bg-color: #434B5C;\n",
              "      --hover-fill-color: #FFFFFF;\n",
              "      --disabled-bg-color: #3B4455;\n",
              "      --disabled-fill-color: #666;\n",
              "  }\n",
              "\n",
              "  .colab-df-quickchart {\n",
              "    background-color: var(--bg-color);\n",
              "    border: none;\n",
              "    border-radius: 50%;\n",
              "    cursor: pointer;\n",
              "    display: none;\n",
              "    fill: var(--fill-color);\n",
              "    height: 32px;\n",
              "    padding: 0;\n",
              "    width: 32px;\n",
              "  }\n",
              "\n",
              "  .colab-df-quickchart:hover {\n",
              "    background-color: var(--hover-bg-color);\n",
              "    box-shadow: 0 1px 2px rgba(60, 64, 67, 0.3), 0 1px 3px 1px rgba(60, 64, 67, 0.15);\n",
              "    fill: var(--button-hover-fill-color);\n",
              "  }\n",
              "\n",
              "  .colab-df-quickchart-complete:disabled,\n",
              "  .colab-df-quickchart-complete:disabled:hover {\n",
              "    background-color: var(--disabled-bg-color);\n",
              "    fill: var(--disabled-fill-color);\n",
              "    box-shadow: none;\n",
              "  }\n",
              "\n",
              "  .colab-df-spinner {\n",
              "    border: 2px solid var(--fill-color);\n",
              "    border-color: transparent;\n",
              "    border-bottom-color: var(--fill-color);\n",
              "    animation:\n",
              "      spin 1s steps(1) infinite;\n",
              "  }\n",
              "\n",
              "  @keyframes spin {\n",
              "    0% {\n",
              "      border-color: transparent;\n",
              "      border-bottom-color: var(--fill-color);\n",
              "      border-left-color: var(--fill-color);\n",
              "    }\n",
              "    20% {\n",
              "      border-color: transparent;\n",
              "      border-left-color: var(--fill-color);\n",
              "      border-top-color: var(--fill-color);\n",
              "    }\n",
              "    30% {\n",
              "      border-color: transparent;\n",
              "      border-left-color: var(--fill-color);\n",
              "      border-top-color: var(--fill-color);\n",
              "      border-right-color: var(--fill-color);\n",
              "    }\n",
              "    40% {\n",
              "      border-color: transparent;\n",
              "      border-right-color: var(--fill-color);\n",
              "      border-top-color: var(--fill-color);\n",
              "    }\n",
              "    60% {\n",
              "      border-color: transparent;\n",
              "      border-right-color: var(--fill-color);\n",
              "    }\n",
              "    80% {\n",
              "      border-color: transparent;\n",
              "      border-right-color: var(--fill-color);\n",
              "      border-bottom-color: var(--fill-color);\n",
              "    }\n",
              "    90% {\n",
              "      border-color: transparent;\n",
              "      border-bottom-color: var(--fill-color);\n",
              "    }\n",
              "  }\n",
              "</style>\n",
              "\n",
              "  <script>\n",
              "    async function quickchart(key) {\n",
              "      const quickchartButtonEl =\n",
              "        document.querySelector('#' + key + ' button');\n",
              "      quickchartButtonEl.disabled = true;  // To prevent multiple clicks.\n",
              "      quickchartButtonEl.classList.add('colab-df-spinner');\n",
              "      try {\n",
              "        const charts = await google.colab.kernel.invokeFunction(\n",
              "            'suggestCharts', [key], {});\n",
              "      } catch (error) {\n",
              "        console.error('Error during call to suggestCharts:', error);\n",
              "      }\n",
              "      quickchartButtonEl.classList.remove('colab-df-spinner');\n",
              "      quickchartButtonEl.classList.add('colab-df-quickchart-complete');\n",
              "    }\n",
              "    (() => {\n",
              "      let quickchartButtonEl =\n",
              "        document.querySelector('#df-1821d82b-e4c7-4773-94d3-c59ee07d63d4 button');\n",
              "      quickchartButtonEl.style.display =\n",
              "        google.colab.kernel.accessAllowed ? 'block' : 'none';\n",
              "    })();\n",
              "  </script>\n",
              "</div>\n",
              "    </div>\n",
              "  </div>\n"
            ]
          },
          "metadata": {},
          "execution_count": 1
        }
      ],
      "source": [
        "\n",
        "# PERSIAPAN DATA\n",
        "\n",
        "# download file contoh csv\n",
        "!wget https://raw.githubusercontent.com/ruang-belajar/python/master/notebook/data/2013-data-kebakaran.csv -O data-kebakaran.csv\n",
        "\n",
        "\n",
        "import pandas as pd\n",
        "\n",
        "# load data ke dataframe (df)\n",
        "df = pd.read_csv(\"data-kebakaran.csv\")\n",
        "df.head()\n"
      ]
    },
    {
      "cell_type": "markdown",
      "source": [
        "# soal 1  \n",
        "#### Filter kejadian kebakaran yang terjadi di bulan Maret\n",
        "\n"
      ],
      "metadata": {
        "id": "PjhgewX-_ici"
      }
    },
    {
      "cell_type": "code",
      "source": [
        "df1 = df[df.bulan==3]\n",
        "df1\n"
      ],
      "metadata": {
        "id": "BwKHfqP6_yCu"
      },
      "execution_count": null,
      "outputs": []
    },
    {
      "cell_type": "markdown",
      "source": [
        "# soal 2\n",
        "#### Filter kejadian kebakaran yang nilai kerugiannya antara 50jt sampai 100jt\n"
      ],
      "metadata": {
        "id": "Yezu_RQ0_0rR"
      }
    },
    {
      "cell_type": "code",
      "source": [
        "df2 = df[(df.kerugian >= 50000000) & (df.kerugian <= 100000000)]\n",
        "df2\n"
      ],
      "metadata": {
        "id": "X_BL_Q7X_8Ot"
      },
      "execution_count": null,
      "outputs": []
    },
    {
      "cell_type": "markdown",
      "source": [
        "# soal 3\n",
        "####  Tampilkan/Filter 5 kejadian yang tingkat kerugiannya paling besar\n"
      ],
      "metadata": {
        "id": "8V1h2SEC_9DF"
      }
    },
    {
      "cell_type": "code",
      "source": [
        "df3 = df.sort_values(by='kerugian', ascending=False).head(5)\n",
        "df3"
      ],
      "metadata": {
        "id": "vvbhmDlPAEzA"
      },
      "execution_count": null,
      "outputs": []
    },
    {
      "cell_type": "markdown",
      "source": [
        "# soal 4\n",
        "#### . Menggunakan groupby dan count, hitung banyaknya kejadian kebakaran per bulan\n"
      ],
      "metadata": {
        "id": "UVqxET-0AFXD"
      }
    },
    {
      "cell_type": "code",
      "source": [
        "df4 = df.groupby('bulan').count()['keterangan']\n",
        "df4\n"
      ],
      "metadata": {
        "id": "rlJIeyukAKqR"
      },
      "execution_count": null,
      "outputs": []
    },
    {
      "cell_type": "markdown",
      "source": [
        "# soal 5\n",
        "####  Menggunakan groupby dan sum, hitung jumlah kerugian akibat kebakaran per bulan\n"
      ],
      "metadata": {
        "id": "dGDWkNn6ALiF"
      }
    },
    {
      "cell_type": "code",
      "source": [
        "df5 = df.groupby('bulan')['kerugian'].sum()\n",
        "df5\n"
      ],
      "metadata": {
        "id": "4WQDIVG7AQnR"
      },
      "execution_count": null,
      "outputs": []
    },
    {
      "cell_type": "markdown",
      "source": [
        "# soal 6\n",
        "#### . Menggunakan gruppby dan mean, hitung rata-rata kerugian akibat kebakaran per bulan\n"
      ],
      "metadata": {
        "id": "b8SENshLARVH"
      }
    },
    {
      "cell_type": "code",
      "source": [
        "df6 = df.groupby('bulan')['kerugian'].mean()\n",
        "df6\n"
      ],
      "metadata": {
        "id": "iOUJ1q8rAYQP"
      },
      "execution_count": null,
      "outputs": []
    },
    {
      "cell_type": "markdown",
      "source": [
        "# soal 7\n",
        "#### Hitung banyaknya kejadian kebakaran yang disebabkan Listrik per bulan\n"
      ],
      "metadata": {
        "id": "gjgffs6nAY9n"
      }
    },
    {
      "cell_type": "code",
      "source": [
        "df7 = df[df.penyebab == 'Listrik'].groupby('bulan')['penyebab'].count()\n",
        "df7"
      ],
      "metadata": {
        "id": "Q4WLXUXMAioG"
      },
      "execution_count": null,
      "outputs": []
    },
    {
      "cell_type": "markdown",
      "source": [
        "# soal 8\n",
        "####  Hitung jumlah kerugian akibat kebakaran yang terjadi di kelurahan Kemayoran\n"
      ],
      "metadata": {
        "id": "rgjgcjwgAjZt"
      }
    },
    {
      "cell_type": "code",
      "source": [
        "df8 = df[df.kelurahan == 'Kemayoran']['kerugian'].sum()\n",
        "df8\n"
      ],
      "metadata": {
        "id": "_ObHePAHAqm0"
      },
      "execution_count": null,
      "outputs": []
    },
    {
      "cell_type": "markdown",
      "source": [
        "# soal 9\n",
        "####  Hitung rata-rata kerugian akibat kebakaran yang terjadi di bulan Juni dan Juli,  di Pasar Rebo\n"
      ],
      "metadata": {
        "id": "tSUTZBPtAr6K"
      }
    },
    {
      "cell_type": "code",
      "source": [
        "df9 = df[(df.bulan.isin([6, 7])) & (df.kecamatan == 'Pasar Rebo')]['kerugian'].mean()\n",
        "df9\n"
      ],
      "metadata": {
        "id": "0xl4s2B2AwzO"
      },
      "execution_count": null,
      "outputs": []
    },
    {
      "cell_type": "markdown",
      "source": [
        "# soal 10\n",
        "#### Menggunakan fungsi max, tampilkan nilai kerugian paling besar dari kejadian kebakaran per kelurahan.\n"
      ],
      "metadata": {
        "id": "lKuitfSlAxg2"
      }
    },
    {
      "cell_type": "code",
      "source": [
        "kerugian_terbesar = df.groupby('kelurahan')['kerugian'].max()\n",
        "kerugian_terbesar"
      ],
      "metadata": {
        "id": "CWAOvRRqA3G3"
      },
      "execution_count": null,
      "outputs": []
    }
  ]
}